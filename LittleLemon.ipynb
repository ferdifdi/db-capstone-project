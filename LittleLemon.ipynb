{
 "cells": [
  {
   "cell_type": "code",
   "execution_count": 1,
   "id": "a5083449",
   "metadata": {},
   "outputs": [
    {
     "name": "stdout",
     "output_type": "stream",
     "text": [
      "Requirement already satisfied: mysql-connector-python in c:\\users\\asus\\anaconda3\\lib\\site-packages (8.0.30)\n",
      "Requirement already satisfied: protobuf<=3.20.1,>=3.11.0 in c:\\users\\asus\\anaconda3\\lib\\site-packages (from mysql-connector-python) (3.20.1)\n"
     ]
    }
   ],
   "source": [
    "!pip install mysql-connector-python"
   ]
  },
  {
   "cell_type": "code",
   "execution_count": 2,
   "id": "b9ffa97f",
   "metadata": {},
   "outputs": [],
   "source": [
    "import mysql.connector as connector"
   ]
  },
  {
   "cell_type": "code",
   "execution_count": 18,
   "id": "eff13c41",
   "metadata": {},
   "outputs": [],
   "source": [
    "connection = connector.connect(user = \"root\", password = \"excellent123\", db = \"LittleLemonDB\")"
   ]
  },
  {
   "cell_type": "code",
   "execution_count": 20,
   "id": "cc15ca44",
   "metadata": {},
   "outputs": [],
   "source": [
    "cursor = connection.cursor()\n"
   ]
  },
  {
   "cell_type": "code",
   "execution_count": 21,
   "id": "1b266f3c",
   "metadata": {},
   "outputs": [],
   "source": [
    "show_tables_query = \"SHOW tables\" \n",
    "cursor.execute(show_tables_query)"
   ]
  },
  {
   "cell_type": "code",
   "execution_count": 23,
   "id": "ea326475",
   "metadata": {},
   "outputs": [
    {
     "name": "stdout",
     "output_type": "stream",
     "text": [
      "('bookings',)\n",
      "('customer_details',)\n",
      "('menu',)\n",
      "('menu_items',)\n",
      "('order_delivery_status',)\n",
      "('orders',)\n",
      "('ordersview',)\n",
      "('staff_information',)\n"
     ]
    }
   ],
   "source": [
    "# Fetch all the results\n",
    "results = cursor.fetchall()\n",
    "\n",
    "# Print the table names\n",
    "for table in results:\n",
    "    print(table)"
   ]
  },
  {
   "cell_type": "code",
   "execution_count": 27,
   "id": "3fccf079",
   "metadata": {},
   "outputs": [
    {
     "name": "stdout",
     "output_type": "stream",
     "text": [
      "Customer Name: Ferdi\n",
      "Contact Details: 0895\n",
      "Total Cost: 300\n",
      "\n",
      "Customer Name: Ferdi\n",
      "Contact Details: 0895\n",
      "Total Cost: 350\n",
      "\n"
     ]
    }
   ],
   "source": [
    "# SQL query\n",
    "query = \"\"\"\n",
    "SELECT Customers.Customer_Name, Customers.Contact_Details, Orders.Total_Cost\n",
    "FROM Customer_Details as Customers\n",
    "JOIN Orders ON Customers.Customer_ID = Orders.Customer_ID\n",
    "WHERE Orders.Total_Cost > 60\n",
    "\"\"\"\n",
    "\n",
    "# Execute the query\n",
    "cursor.execute(query)\n",
    "\n",
    "# Fetch all the results\n",
    "results = cursor.fetchall()\n",
    "\n",
    "# Print the retrieved details\n",
    "for row in results:\n",
    "    customer_name, contact_details, total_cost = row\n",
    "    print(\"Customer Name:\", customer_name)\n",
    "    print(\"Contact Details:\", contact_details)\n",
    "    print(\"Total Cost:\", total_cost)\n",
    "    print()"
   ]
  },
  {
   "cell_type": "code",
   "execution_count": null,
   "id": "ff1366ba",
   "metadata": {},
   "outputs": [],
   "source": []
  }
 ],
 "metadata": {
  "kernelspec": {
   "display_name": "Python 3 (ipykernel)",
   "language": "python",
   "name": "python3"
  },
  "language_info": {
   "codemirror_mode": {
    "name": "ipython",
    "version": 3
   },
   "file_extension": ".py",
   "mimetype": "text/x-python",
   "name": "python",
   "nbconvert_exporter": "python",
   "pygments_lexer": "ipython3",
   "version": "3.8.15"
  }
 },
 "nbformat": 4,
 "nbformat_minor": 5
}
